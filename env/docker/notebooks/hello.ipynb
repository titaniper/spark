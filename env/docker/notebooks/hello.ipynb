{
 "cells": [
  {
   "cell_type": "code",
   "execution_count": 2,
   "id": "359ddaad-5bf5-45b2-b40f-50e5f33ef2ed",
   "metadata": {},
   "outputs": [
    {
     "name": "stdout",
     "output_type": "stream",
     "text": [
      "+-----+---+\n",
      "| Name|Age|\n",
      "+-----+---+\n",
      "|Alice| 29|\n",
      "|  Bob| 31|\n",
      "|Cathy| 25|\n",
      "+-----+---+\n",
      "\n",
      "root\n",
      " |-- Name: string (nullable = true)\n",
      " |-- Age: long (nullable = true)\n",
      "\n",
      "Average Age: 28.333333333333332\n"
     ]
    }
   ],
   "source": [
    "from pyspark.sql import SparkSession\n",
    "\n",
    "# SparkSession 생성\n",
    "spark = SparkSession.builder \\\n",
    "    .appName(\"SimpleApp\") \\\n",
    "    .getOrCreate()\n",
    "\n",
    "# 간단한 데이터 생성\n",
    "data = [(\"Alice\", 29), (\"Bob\", 31), (\"Cathy\", 25)]\n",
    "columns = [\"Name\", \"Age\"]\n",
    "\n",
    "# 데이터프레임 생성\n",
    "df = spark.createDataFrame(data, columns)\n",
    "\n",
    "# 데이터프레임 내용 출력\n",
    "df.show()\n",
    "\n",
    "# 데이터프레임의 스키마 출력\n",
    "df.printSchema()\n",
    "\n",
    "# Age 컬럼의 평균 계산\n",
    "average_age = df.groupBy().avg(\"Age\").collect()[0][0]\n",
    "print(f\"Average Age: {average_age}\")\n",
    "\n",
    "# SparkSession 종료\n",
    "spark.stop()\n"
   ]
  },
  {
   "cell_type": "code",
   "execution_count": null,
   "id": "f552910b-9b70-4345-81a7-11ef1ab3d8e4",
   "metadata": {},
   "outputs": [],
   "source": []
  },
  {
   "cell_type": "code",
   "execution_count": null,
   "id": "27008907-215c-41a4-8cd2-a139f66ea2a0",
   "metadata": {},
   "outputs": [],
   "source": []
  }
 ],
 "metadata": {
  "kernelspec": {
   "display_name": "Python 3 (ipykernel)",
   "language": "python",
   "name": "python3"
  },
  "language_info": {
   "codemirror_mode": {
    "name": "ipython",
    "version": 3
   },
   "file_extension": ".py",
   "mimetype": "text/x-python",
   "name": "python",
   "nbconvert_exporter": "python",
   "pygments_lexer": "ipython3",
   "version": "3.11.6"
  }
 },
 "nbformat": 4,
 "nbformat_minor": 5
}
