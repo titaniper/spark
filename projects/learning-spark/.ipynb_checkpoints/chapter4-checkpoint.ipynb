{
 "cells": [
  {
   "cell_type": "code",
   "execution_count": 4,
   "id": "0a294876-87bd-456f-bbf7-594c97274c74",
   "metadata": {},
   "outputs": [],
   "source": [
    "# https://github.com/YunSeo00/spark_study/blob/master/Chap4/Chapter4.ipynb "
   ]
  },
  {
   "cell_type": "code",
   "execution_count": 12,
   "id": "fb99cb03-6bde-45f0-979c-ed378723c300",
   "metadata": {},
   "outputs": [
    {
     "name": "stdout",
     "output_type": "stream",
     "text": [
      "+-----+---+\n",
      "| Name|Age|\n",
      "+-----+---+\n",
      "|Alice| 29|\n",
      "|  Bob| 31|\n",
      "|Cathy| 25|\n",
      "+-----+---+\n",
      "\n",
      "root\n",
      " |-- Name: string (nullable = true)\n",
      " |-- Age: long (nullable = true)\n",
      "\n",
      "Average Age: 28.333333333333332\n"
     ]
    }
   ],
   "source": [
    "from pyspark.sql import SparkSession\n",
    "\n",
    "# SparkSession 생성\n",
    "spark = SparkSession.builder \\\n",
    "    .appName(\"SimpleApp\") \\\n",
    "    .getOrCreate()\n",
    "\n",
    "# 간단한 데이터 생성\n",
    "data = [(\"Alice\", 39), (\"Bob\", 31), (\"Cathy\", 25)]\n",
    "columns = [\"Name\", \"Age\"]\n",
    "\n",
    "# 데이터프레임 생성\n",
    "df = spark.createDataFrame(data, columns)\n",
    "\n",
    "# 데이터프레임 내용 출력\n",
    "df.show()\n",
    "\n",
    "# 데이터프레임의 스키마 출력\n",
    "df.printSchema()\n",
    "\n",
    "# Age 컬럼의 평균 계산\n",
    "average_age = df.groupBy().avg(\"Age\").collect()[0][0]\n",
    "print(f\"Average Age: {average_age}\")\n",
    "\n",
    "# SparkSession 종료\n",
    "spark.stop()\n"
   ]
  },
  {
   "cell_type": "code",
   "execution_count": 5,
   "id": "8eb22802-ee86-43f9-a134-dbcf2c5bd044",
   "metadata": {},
   "outputs": [
    {
     "data": {
      "text/plain": [
       "DataFrame[]"
      ]
     },
     "execution_count": 5,
     "metadata": {},
     "output_type": "execute_result"
    }
   ],
   "source": [
    "# 데이터 베이스 생성\n",
    "spark.sql(\"CREATE DATABASE learn_spark_db\")\n",
    "spark.sql(\"USE learn_spark_db\")\n",
    "\n",
    "# 관리형 테이블 생성\n",
    "flights_df = spark.read.csv(\"departuredelays.csv\", schema=schema)\n",
    "flights_df.write.saveAsTable(\"managed_us_delay_flights_tbl\")"
   ]
  },
  {
   "cell_type": "code",
   "execution_count": null,
   "id": "359230f9-18c7-4f73-99ef-1758a90e240a",
   "metadata": {},
   "outputs": [],
   "source": []
  }
 ],
 "metadata": {
  "kernelspec": {
   "display_name": "Python 3 (ipykernel)",
   "language": "python",
   "name": "python3"
  },
  "language_info": {
   "codemirror_mode": {
    "name": "ipython",
    "version": 3
   },
   "file_extension": ".py",
   "mimetype": "text/x-python",
   "name": "python",
   "nbconvert_exporter": "python",
   "pygments_lexer": "ipython3",
   "version": "3.11.6"
  }
 },
 "nbformat": 4,
 "nbformat_minor": 5
}
