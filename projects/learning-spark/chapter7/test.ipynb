{
 "cells": [
  {
   "cell_type": "code",
   "execution_count": 1,
   "id": "e845753c-a0d4-4c70-9b1a-ee6ea8c2d795",
   "metadata": {
    "collapsed": true,
    "jupyter": {
     "outputs_hidden": true
    },
    "scrolled": true
   },
   "outputs": [
    {
     "name": "stdout",
     "output_type": "stream",
     "text": [
      "Collecting wget\n",
      "  Downloading wget-3.2.zip (10 kB)\n",
      "  Preparing metadata (setup.py) ... \u001b[?25ldone\n",
      "\u001b[?25hBuilding wheels for collected packages: wget\n",
      "  Building wheel for wget (setup.py) ... \u001b[?25ldone\n",
      "\u001b[?25h  Created wheel for wget: filename=wget-3.2-py3-none-any.whl size=9655 sha256=30318fbbf3fd482483beb5cd714b87438293d871ce4fa497031c772d422aef7d\n",
      "  Stored in directory: /home/jovyan/.cache/pip/wheels/40/b3/0f/a40dbd1c6861731779f62cc4babcb234387e11d697df70ee97\n",
      "Successfully built wget\n",
      "Installing collected packages: wget\n",
      "Successfully installed wget-3.2\n"
     ]
    }
   ],
   "source": [
    "!pip install wget"
   ]
  },
  {
   "cell_type": "code",
   "execution_count": 10,
   "id": "4842fd65-5008-4fcf-9608-e452553c3f7e",
   "metadata": {},
   "outputs": [
    {
     "name": "stdout",
     "output_type": "stream",
     "text": [
      "현재 작업 디렉토리: /home/jovyan/work/learning-spark/chapter7\n",
      "현재 디렉토리의 파일 목록:\n",
      "iris (1).data\n",
      "iris.data\n",
      ".ipynb_checkpoints\n",
      "test.ipynb\n",
      "\n",
      "상위 디렉토리의 파일 목록:\n",
      "chapter4.ipynb\n",
      "chapter6\n",
      "chapter7\n",
      "java\n",
      "spark-warehouse\n",
      ".ipynb_checkpoints\n"
     ]
    }
   ],
   "source": [
    "import os\n",
    "\n",
    "# 현재 작업 디렉토리 출력\n",
    "print(\"현재 작업 디렉토리:\", os.getcwd())\n",
    "\n",
    "# 현재 디렉토리의 파일 목록 출력\n",
    "print(\"현재 디렉토리의 파일 목록:\")\n",
    "for file in os.listdir():\n",
    "    print(file)\n",
    "\n",
    "# 상위 디렉토리의 파일 목록 출력\n",
    "print(\"\\n상위 디렉토리의 파일 목록:\")\n",
    "for file in os.listdir(\"..\"):\n",
    "    print(file)"
   ]
  },
  {
   "cell_type": "code",
   "execution_count": 14,
   "id": "c2cb2455-c6ef-44f3-acfe-ed22fa557bb1",
   "metadata": {},
   "outputs": [
    {
     "name": "stdout",
     "output_type": "stream",
     "text": [
      "/home/jovyan/shared 디렉토리 정보:\n",
      "존재 여부: True\n",
      "권한: 755\n",
      "소유자: 0\n",
      "그룹: 0\n"
     ]
    }
   ],
   "source": [
    "import os\n",
    "\n",
    "shared_dir = '/home/jovyan/shared'\n",
    "print(f\"{shared_dir} 디렉토리 정보:\")\n",
    "print(f\"존재 여부: {os.path.exists(shared_dir)}\")\n",
    "if os.path.exists(shared_dir):\n",
    "    print(f\"권한: {oct(os.stat(shared_dir).st_mode)[-3:]}\")\n",
    "    print(f\"소유자: {os.stat(shared_dir).st_uid}\")\n",
    "    print(f\"그룹: {os.stat(shared_dir).st_gid}\")"
   ]
  },
  {
   "cell_type": "code",
   "execution_count": 1,
   "id": "56a4126f-9684-4315-89ac-eaf140956255",
   "metadata": {},
   "outputs": [
    {
     "name": "stdout",
     "output_type": "stream",
     "text": [
      "현재 사용자: jovyan\n",
      "현재 사용자 ID: 1000\n",
      "현재 사용자 그룹 ID: 100\n"
     ]
    }
   ],
   "source": [
    "import os\n",
    "import pwd\n",
    "\n",
    "current_user = pwd.getpwuid(os.getuid()).pw_name\n",
    "print(f\"현재 사용자: {current_user}\")\n",
    "print(f\"현재 사용자 ID: {os.getuid()}\")\n",
    "print(f\"현재 사용자 그룹 ID: {os.getgid()}\")"
   ]
  },
  {
   "cell_type": "code",
   "execution_count": 2,
   "id": "972e9550-508b-4369-800b-3fc996caad82",
   "metadata": {},
   "outputs": [
    {
     "name": "stdout",
     "output_type": "stream",
     "text": [
      "현재 작업 디렉토리: /home/jovyan/work/learning-spark/chapter7\n"
     ]
    },
    {
     "ename": "PermissionError",
     "evalue": "[Errno 13] Permission denied: '/home/jovyan/shared/iris.data'",
     "output_type": "error",
     "traceback": [
      "\u001b[0;31m---------------------------------------------------------------------------\u001b[0m",
      "\u001b[0;31mPermissionError\u001b[0m                           Traceback (most recent call last)",
      "Cell \u001b[0;32mIn[2], line 23\u001b[0m\n\u001b[1;32m     20\u001b[0m \u001b[38;5;66;03m# 파일이 존재하는지 확인\u001b[39;00m\n\u001b[1;32m     21\u001b[0m \u001b[38;5;28;01mif\u001b[39;00m os\u001b[38;5;241m.\u001b[39mpath\u001b[38;5;241m.\u001b[39mexists(source_file):\n\u001b[1;32m     22\u001b[0m     \u001b[38;5;66;03m# 파일 복사\u001b[39;00m\n\u001b[0;32m---> 23\u001b[0m     \u001b[43mshutil\u001b[49m\u001b[38;5;241;43m.\u001b[39;49m\u001b[43mcopy2\u001b[49m\u001b[43m(\u001b[49m\u001b[43msource_file\u001b[49m\u001b[43m,\u001b[49m\u001b[43m \u001b[49m\u001b[43mtarget_file\u001b[49m\u001b[43m)\u001b[49m\n\u001b[1;32m     24\u001b[0m     \u001b[38;5;28mprint\u001b[39m(\u001b[38;5;124mf\u001b[39m\u001b[38;5;124m\"\u001b[39m\u001b[38;5;124m파일이 복사되었습니다: \u001b[39m\u001b[38;5;132;01m{\u001b[39;00mtarget_file\u001b[38;5;132;01m}\u001b[39;00m\u001b[38;5;124m\"\u001b[39m)\n\u001b[1;32m     25\u001b[0m \u001b[38;5;28;01melse\u001b[39;00m:\n",
      "File \u001b[0;32m/opt/conda/lib/python3.11/shutil.py:436\u001b[0m, in \u001b[0;36mcopy2\u001b[0;34m(src, dst, follow_symlinks)\u001b[0m\n\u001b[1;32m    434\u001b[0m \u001b[38;5;28;01mif\u001b[39;00m os\u001b[38;5;241m.\u001b[39mpath\u001b[38;5;241m.\u001b[39misdir(dst):\n\u001b[1;32m    435\u001b[0m     dst \u001b[38;5;241m=\u001b[39m os\u001b[38;5;241m.\u001b[39mpath\u001b[38;5;241m.\u001b[39mjoin(dst, os\u001b[38;5;241m.\u001b[39mpath\u001b[38;5;241m.\u001b[39mbasename(src))\n\u001b[0;32m--> 436\u001b[0m \u001b[43mcopyfile\u001b[49m\u001b[43m(\u001b[49m\u001b[43msrc\u001b[49m\u001b[43m,\u001b[49m\u001b[43m \u001b[49m\u001b[43mdst\u001b[49m\u001b[43m,\u001b[49m\u001b[43m \u001b[49m\u001b[43mfollow_symlinks\u001b[49m\u001b[38;5;241;43m=\u001b[39;49m\u001b[43mfollow_symlinks\u001b[49m\u001b[43m)\u001b[49m\n\u001b[1;32m    437\u001b[0m copystat(src, dst, follow_symlinks\u001b[38;5;241m=\u001b[39mfollow_symlinks)\n\u001b[1;32m    438\u001b[0m \u001b[38;5;28;01mreturn\u001b[39;00m dst\n",
      "File \u001b[0;32m/opt/conda/lib/python3.11/shutil.py:258\u001b[0m, in \u001b[0;36mcopyfile\u001b[0;34m(src, dst, follow_symlinks)\u001b[0m\n\u001b[1;32m    256\u001b[0m \u001b[38;5;28;01mwith\u001b[39;00m \u001b[38;5;28mopen\u001b[39m(src, \u001b[38;5;124m'\u001b[39m\u001b[38;5;124mrb\u001b[39m\u001b[38;5;124m'\u001b[39m) \u001b[38;5;28;01mas\u001b[39;00m fsrc:\n\u001b[1;32m    257\u001b[0m     \u001b[38;5;28;01mtry\u001b[39;00m:\n\u001b[0;32m--> 258\u001b[0m         \u001b[38;5;28;01mwith\u001b[39;00m \u001b[38;5;28;43mopen\u001b[39;49m\u001b[43m(\u001b[49m\u001b[43mdst\u001b[49m\u001b[43m,\u001b[49m\u001b[43m \u001b[49m\u001b[38;5;124;43m'\u001b[39;49m\u001b[38;5;124;43mwb\u001b[39;49m\u001b[38;5;124;43m'\u001b[39;49m\u001b[43m)\u001b[49m \u001b[38;5;28;01mas\u001b[39;00m fdst:\n\u001b[1;32m    259\u001b[0m             \u001b[38;5;66;03m# macOS\u001b[39;00m\n\u001b[1;32m    260\u001b[0m             \u001b[38;5;28;01mif\u001b[39;00m _HAS_FCOPYFILE:\n\u001b[1;32m    261\u001b[0m                 \u001b[38;5;28;01mtry\u001b[39;00m:\n",
      "\u001b[0;31mPermissionError\u001b[0m: [Errno 13] Permission denied: '/home/jovyan/shared/iris.data'"
     ]
    }
   ],
   "source": [
    "import os\n",
    "import shutil\n",
    "\n",
    "# 현재 작업 디렉토리 확인\n",
    "current_dir = os.getcwd()\n",
    "print(f\"현재 작업 디렉토리: {current_dir}\")\n",
    "\n",
    "# 원본 파일 경로\n",
    "source_file = os.path.join(current_dir, \"iris.data\")\n",
    "\n",
    "# 대상 디렉토리 (shared 폴더로 가정)\n",
    "target_dir = \"/home/jovyan/shared\"\n",
    "\n",
    "# 대상 파일 경로\n",
    "target_file = os.path.join(target_dir, \"iris.data\")\n",
    "\n",
    "# 대상 디렉토리가 없으면 생성\n",
    "os.makedirs(target_dir, exist_ok=True)\n",
    "\n",
    "# 파일이 존재하는지 확인\n",
    "if os.path.exists(source_file):\n",
    "    # 파일 복사\n",
    "    shutil.copy2(source_file, target_file)\n",
    "    print(f\"파일이 복사되었습니다: {target_file}\")\n",
    "else:\n",
    "    print(f\"원본 파일을 찾을 수 없습니다: {source_file}\")\n",
    "\n",
    "# 복사된 파일 확인\n",
    "if os.path.exists(target_file):\n",
    "    print(f\"파일이 성공적으로 복사되었습니다.\")\n",
    "    print(f\"복사된 파일 크기: {os.path.getsize(target_file)} bytes\")\n",
    "else:\n",
    "    print(f\"파일 복사에 실패했습니다.\")"
   ]
  },
  {
   "cell_type": "code",
   "execution_count": 3,
   "id": "24b609ef-5b4e-43a0-961a-a3c5d8b04c7d",
   "metadata": {
    "scrolled": true
   },
   "outputs": [
    {
     "name": "stdout",
     "output_type": "stream",
     "text": [
      "+------------+-----------+------------+-----------+-----------+\n",
      "|sepal_length|sepal_width|petal_length|petal_width|      class|\n",
      "+------------+-----------+------------+-----------+-----------+\n",
      "|         5.1|        3.5|         1.4|        0.2|Iris-setosa|\n",
      "|         4.9|        3.0|         1.4|        0.2|Iris-setosa|\n",
      "|         4.7|        3.2|         1.3|        0.2|Iris-setosa|\n",
      "|         4.6|        3.1|         1.5|        0.2|Iris-setosa|\n",
      "|         5.0|        3.6|         1.4|        0.2|Iris-setosa|\n",
      "|         5.4|        3.9|         1.7|        0.4|Iris-setosa|\n",
      "|         4.6|        3.4|         1.4|        0.3|Iris-setosa|\n",
      "|         5.0|        3.4|         1.5|        0.2|Iris-setosa|\n",
      "|         4.4|        2.9|         1.4|        0.2|Iris-setosa|\n",
      "|         4.9|        3.1|         1.5|        0.1|Iris-setosa|\n",
      "|         5.4|        3.7|         1.5|        0.2|Iris-setosa|\n",
      "|         4.8|        3.4|         1.6|        0.2|Iris-setosa|\n",
      "|         4.8|        3.0|         1.4|        0.1|Iris-setosa|\n",
      "|         4.3|        3.0|         1.1|        0.1|Iris-setosa|\n",
      "|         5.8|        4.0|         1.2|        0.2|Iris-setosa|\n",
      "|         5.7|        4.4|         1.5|        0.4|Iris-setosa|\n",
      "|         5.4|        3.9|         1.3|        0.4|Iris-setosa|\n",
      "|         5.1|        3.5|         1.4|        0.3|Iris-setosa|\n",
      "|         5.7|        3.8|         1.7|        0.3|Iris-setosa|\n",
      "|         5.1|        3.8|         1.5|        0.3|Iris-setosa|\n",
      "+------------+-----------+------------+-----------+-----------+\n",
      "only showing top 20 rows\n",
      "\n"
     ]
    }
   ],
   "source": [
    "from pyspark.sql import SparkSession\n",
    "from pyspark.sql.types import StructType, StructField, FloatType, StringType\n",
    "\n",
    "# Spark 세션 생성\n",
    "spark = SparkSession.\\\n",
    "        builder.\\\n",
    "        appName(\"pyspark-notebook\").\\\n",
    "        master(\"spark://spark-master:8341\").\\\n",
    "        getOrCreate()\n",
    "\n",
    "# 파일 경로\n",
    "file_path = \"/home/jovyan/work/learning-spark/chapter7/iris.data\"\n",
    "\n",
    "# 파일 내용 읽기\n",
    "with open(file_path, 'r') as file:\n",
    "    content = file.readlines()\n",
    "\n",
    "# # RDD 생성\n",
    "rdd = spark.sparkContext.parallelize(content)\n",
    "\n",
    "# RDD를 DataFrame으로 변환\n",
    "df = rdd.map(lambda line: line.strip().split(','))\\\n",
    "        .filter(lambda x: len(x) == 5)\\\n",
    "        .toDF([\"sepal_length\", \"sepal_width\", \"petal_length\", \"petal_width\", \"class\"])\n",
    "\n",
    "df.show()\n",
    "\n",
    "# # DataFrame 확인\n",
    "# print(\"DataFrame schema:\")\n",
    "# df.printSchema()\n",
    "# print(\"\\nFirst few rows of the DataFrame:\")\n",
    "# df.show(5)\n",
    "\n",
    "# # 간단한 분석 예시\n",
    "# print(\"\\nSummary statistics:\")\n",
    "# df.describe().show()\n",
    "\n",
    "# # 클래스별 개수\n",
    "# print(\"\\nCount by class:\")\n",
    "# df.groupBy(\"class\").count().show()\n",
    "\n",
    "# Spark 세션 종료\n",
    "# spark.stop()"
   ]
  },
  {
   "cell_type": "code",
   "execution_count": 12,
   "id": "764b7bd9-7381-4a18-a3c9-b2661cc0cde5",
   "metadata": {},
   "outputs": [
    {
     "name": "stdout",
     "output_type": "stream",
     "text": [
      "file:/home/jovyan/work/learning-spark/chapter7/spark-warehouse\n"
     ]
    }
   ],
   "source": [
    "from pyspark.sql import SparkSession\n",
    "spark = SparkSession.builder.getOrCreate()\n",
    "print(spark.sparkContext.getConf().get(\"spark.sql.warehouse.dir\"))"
   ]
  },
  {
   "cell_type": "code",
   "execution_count": 2,
   "id": "4893c6b3-fb67-4230-b0d4-824a8c9afe31",
   "metadata": {},
   "outputs": [
    {
     "name": "stdout",
     "output_type": "stream",
     "text": [
      "-rw-r--r-- 1 jovyan users 4551 Sep 11 09:19 /home/jovyan/work/learning-spark/chapter7/iris.data\n"
     ]
    }
   ],
   "source": [
    "!ls -l /home/jovyan/work/learning-spark/chapter7/iris.data"
   ]
  },
  {
   "cell_type": "code",
   "execution_count": 5,
   "id": "c4dbd1ca-8552-44b6-a447-8eae011f4782",
   "metadata": {},
   "outputs": [
    {
     "name": "stdout",
     "output_type": "stream",
     "text": [
      "/home/jovyan/work/learning-spark/chapter7\n"
     ]
    }
   ],
   "source": [
    "import os\n",
    "print(os.getcwd())"
   ]
  },
  {
   "cell_type": "code",
   "execution_count": 8,
   "id": "3dd26095-a1fc-4338-bb47-c1f9e5fe5de9",
   "metadata": {},
   "outputs": [
    {
     "name": "stdout",
     "output_type": "stream",
     "text": [
      "True\n"
     ]
    }
   ],
   "source": [
    "import os\n",
    "print(os.path.exists('/home/jovyan/work/learning-spark/chapter7/iris.data'))"
   ]
  },
  {
   "cell_type": "code",
   "execution_count": 15,
   "id": "61db1ecf-a1e7-406c-a95d-f1a5420a278b",
   "metadata": {},
   "outputs": [
    {
     "ename": "NameError",
     "evalue": "name 'SparkFiles' is not defined",
     "output_type": "error",
     "traceback": [
      "\u001b[0;31m---------------------------------------------------------------------------\u001b[0m",
      "\u001b[0;31mNameError\u001b[0m                                 Traceback (most recent call last)",
      "Cell \u001b[0;32mIn[15], line 2\u001b[0m\n\u001b[1;32m      1\u001b[0m spark\u001b[38;5;241m.\u001b[39msparkContext\u001b[38;5;241m.\u001b[39maddFile(\u001b[38;5;124m\"\u001b[39m\u001b[38;5;124m/home/jovyan/work/learning-spark/chapter7/iris.data\u001b[39m\u001b[38;5;124m\"\u001b[39m)\n\u001b[0;32m----> 2\u001b[0m data \u001b[38;5;241m=\u001b[39m spark\u001b[38;5;241m.\u001b[39mread\u001b[38;5;241m.\u001b[39mcsv(\u001b[38;5;124m\"\u001b[39m\u001b[38;5;124mfile://\u001b[39m\u001b[38;5;124m\"\u001b[39m \u001b[38;5;241m+\u001b[39m \u001b[43mSparkFiles\u001b[49m\u001b[38;5;241m.\u001b[39mget(\u001b[38;5;124m\"\u001b[39m\u001b[38;5;124miris.data\u001b[39m\u001b[38;5;124m\"\u001b[39m))\n\u001b[1;32m      3\u001b[0m \u001b[38;5;66;03m# data = spark.read.csv(\"/home/jovyan/work/learning-spark/chapter7/iris.data\")\u001b[39;00m\n\u001b[1;32m      4\u001b[0m \u001b[38;5;66;03m# data = spark.read.csv('/home/jovyan/work/learning-spark/chapter7/iris.data')\u001b[39;00m\n\u001b[1;32m      5\u001b[0m \u001b[38;5;66;03m# data.show(n=5)\u001b[39;00m\n",
      "\u001b[0;31mNameError\u001b[0m: name 'SparkFiles' is not defined"
     ]
    }
   ],
   "source": [
    "spark.sparkContext.addFile(\"/home/jovyan/work/learning-spark/chapter7/iris.data\")\n",
    "data = spark.read.csv(\"file://\" + SparkFiles.get(\"iris.data\"))\n",
    "# data = spark.read.csv(\"/home/jovyan/work/learning-spark/chapter7/iris.data\")\n",
    "# data = spark.read.csv('/home/jovyan/work/learning-spark/chapter7/iris.data')\n",
    "# data.show(n=5)"
   ]
  },
  {
   "cell_type": "code",
   "execution_count": null,
   "id": "9c025a1c-0dc4-46bf-b7b7-dc6d8ddf6873",
   "metadata": {},
   "outputs": [],
   "source": []
  }
 ],
 "metadata": {
  "kernelspec": {
   "display_name": "Python 3 (ipykernel)",
   "language": "python",
   "name": "python3"
  },
  "language_info": {
   "codemirror_mode": {
    "name": "ipython",
    "version": 3
   },
   "file_extension": ".py",
   "mimetype": "text/x-python",
   "name": "python",
   "nbconvert_exporter": "python",
   "pygments_lexer": "ipython3",
   "version": "3.11.6"
  }
 },
 "nbformat": 4,
 "nbformat_minor": 5
}
